{
 "cells": [
  {
   "cell_type": "markdown",
   "id": "593f3412",
   "metadata": {},
   "source": [
    "# UNIVIRTUAL AI\n",
    "### Por Juan Gomez, PhD"
   ]
  },
  {
   "cell_type": "code",
   "execution_count": 19,
   "id": "f22e1482",
   "metadata": {},
   "outputs": [],
   "source": [
    "import PyPDF2\n",
    "\n",
    "# Function to extract text from PDF\n",
    "def extract_text_from_pdf(pdf_path):\n",
    "    # Open the PDF file\n",
    "    with open(pdf_path, \"rb\") as file:\n",
    "        reader = PyPDF2.PdfFileReader(file)\n",
    "        text = \"\"\n",
    "        \n",
    "        # Loop through each page\n",
    "        for page_num in range(reader.numPages):\n",
    "            # Get the page\n",
    "            page = reader.getPage(page_num)\n",
    "            # Extract the text\n",
    "            text += page.extractText()\n",
    "    \n",
    "    return text\n",
    "\n",
    "# Function to upload and process PDF file\n",
    "def upload_and_extract_pdf():\n",
    "    # Prompt user for the PDF file path\n",
    "    pdf_path = \"Ejemplo 3 Emprendimiento Innovador.pdf\"\n",
    "    \n",
    "    try:\n",
    "        # Extract text from PDF\n",
    "        extracted_text = extract_text_from_pdf(pdf_path)\n",
    "        # Print the extracted text\n",
    "        print(extracted_text)\n",
    "    except Exception as e:\n",
    "        print(f\"An error occurred: {e}\")\n",
    "\n"
   ]
  },
  {
   "cell_type": "code",
   "execution_count": 20,
   "id": "1e7a66e1",
   "metadata": {},
   "outputs": [],
   "source": [
    "fecha1= \"20/08/2024\"\n",
    "fecha2= \"10/08/2024\""
   ]
  },
  {
   "cell_type": "code",
   "execution_count": 22,
   "id": "37de768c",
   "metadata": {},
   "outputs": [
    {
     "name": "stdout",
     "output_type": "stream",
     "text": [
      "Por favor quiero que califiques de 0.0 (mínimo) a 5.0 (máximo), el siguiente ensayo sobre la elección de modelo de emprendimiento, y además justifiques tu calificación tomando en cuenta los siguientes porcentajes y rubricas:\n",
      "\n",
      "Rubrica 1 - Estructura: máximo porcentaje es 60%, el cual se debe valorar de la siguiente manera:\n",
      "•Logrado: Se evidencia claramente una introducción de contextualización del foco temático elegido; realiza un desarrollo claro y cierra con una conclusión contundente y coherente con el objetivo planteado en la actividad. Apoya sus argumentos con el uso adecuado de citas bibliográficas y conectores.\n",
      "•En proceso: En la introducción se contextualiza de manera incipiente el foco temático elegido; no es muy claro el desarrollo. Su conclusión es poco contundente y coherente con el objetivo planteado en la actividad. Hace poco uso de citas bibliográficas y conectores para apoyar sus argumentos.\n",
      "•En inicio: No se realiza una introducción que contextualice el foco temático elegido; no realiza un desarrollo claro. No cierra con una conclusión contundente y coherente con el objetivo planteado en la actividad. No usa citas bibliográficas y conectores para apoyar sus argumentos.\n",
      "\n",
      "Rubrica 2 - Gramática: máximo porcentaje es 20%, el cual se debe valorar de la siguiente manera:\n",
      "•Logrado: Utiliza correctamente las reglas ortográficas. Utiliza correctamente los signos de puntuación.\n",
      "•En proceso: Presenta algunos errores u omisiones al utilizar las reglas ortográficas. Presenta algunos errores u omisiones al utilizar los signos de puntuación.\n",
      "•En inicio: No utiliza las reglas ortográficas, presenta errores u omisiones incluso en palabras comunes. No utiliza los signos de puntuación o lo hace de manera equivocada en todo el texto.\n",
      "\n",
      "Rubrica 3 - Entrega: máximo porcentaje es 20%, el cual se debe valorar de la siguiente manera:\n",
      "•Logrado: Hace envío del ensayo a través de la plataforma con suficiente tiempo para ser retroalimentado por la docente.\n",
      "•En proceso: Hace envío del ensayo a través de la plataforma en la fecha límite, lo que impide la retroalimentación por la docente.\n",
      "•En inicio: No hace envío del ensayo a través de la plataforma. Lo envía fuera de la fecha establecida.\n",
      " \n",
      "Nota: la fecha limite de este ensayo era 20/08/2024 y la fecha de entrega fue 10/08/2024\n",
      "\n",
      "ENSAYO:\n",
      "\n",
      "\n",
      "\"\n",
      "María Camila Bedoya Osorio   Juan Camilo Arismendy Gómez  \n",
      "1089930447   1002633145  \n",
      " \n",
      "Elegir el enfoque empresarial basado en los negocios verdes ofrece numerosas ventajas y \n",
      "oportunidades, tanto para las empresas como para la sociedad en general. Aquí se presentan \n",
      "algunas razones clave para considerar este modelo:  \n",
      "Tendencias de mercado y demanda creciente:  Existe una creciente conciencia ambiental \n",
      "entre los consumidores, quienes buscan cada vez más productos y servicios que sean \n",
      "respetuosos con el medio ambiente y socialmente responsables. Esto ha generado una \n",
      "demanda sostenida de negocios verdes y una oport unidad para aprovechar estas tendencias \n",
      "en constante evolución.  \n",
      "Diferenciación y ventaja competitiva:  En un mercado cada vez más saturado, los negocios \n",
      "verdes ofrecen una oportunidad única para destacarse de la competencia. Al adoptar \n",
      "prácticas comerciales sostenibles y ofrecer productos y servicios que generen impactos \n",
      "positivos en el medio ambiente, las empresas pueden sobresalir en un mercado abarrotado y \n",
      "ganar la preferencia de los consumidores conscientes.  \n",
      "Acceso a financiamiento y apoyo institucional:  Cada vez más instituciones financieras y \n",
      "organismos gubernamentales están dispuestos a proporcionar financiamiento y apoyo a los \n",
      "negocios verdes debido a su potencial para contribuir al desarrollo sostenible y mitigar el \n",
      "cambio climático. Esto puede inclui r subsidios, préstamos preferenciales o inversiones de \n",
      "capital de riesgo en empresas que adoptan prácticas sostenibles.  \n",
      "Reducción de costos a largo plazo:  Aunque la adopción inicial de prácticas comerciales \n",
      "sostenibles puede requerir una inversión adicional, a largo plazo, estas acciones pueden \n",
      "conducir a una reducción significativa de costos. La eficiencia energética, el uso de \n",
      "materiales reciclados y la op timización de los procesos de producción pueden generar \n",
      "ahorros operativos considerables y mejorar la rentabilidad a largo plazo de la empresa.  \n",
      "Cumplimiento normativo y mitigación de riesgos:  Los negocios verdes tienden a estar mejor \n",
      "preparados para cumplir con las regulaciones ambientales y sociales en constante \n",
      "evolución. Al anticiparse y abordar de manera proactiva las preocupaciones ambientales y \n",
      "sociales, las empresas pueden mitigar los ri esgos asociados con multas, sanciones \n",
      "regulatorias y daños a la reputación.  \n",
      "Contribución al desarrollo sostenible:  Quizás la razón más importante para elegir este \n",
      "modelo de negocio es su capacidad para contribuir de manera significativa al desarrollo \n",
      "sostenible. Al alinear las operaciones comerciales con los principios de sostenibilidad \n",
      "ambiental, social y económica, l as empresas pueden desempeñar un papel crucial en la \n",
      "construcción de un futuro más próspero y equitativo para las generaciones presentes y \n",
      "futuras.  \n",
      "Se opto por este tipo  de modelo de negocio ya que es el que se adecua mas a l \n",
      "emprendimiento que se de sea establecer en un largo plazo bajo las bases sólidas y los \n",
      "aprendizajes  adquiridos a través de este tipo de asignatura,  a su vez es importan te destacar \n",
      "que el emprendimiento consiste en un establecimiento dedicado al barismo , inspirado e n la \n",
      "cultura cafetera; ya que el café es uno de los productos más consumid os no solo María Camila Bedoya Osorio   Juan Camilo Arismendy Gómez  \n",
      "1089930447   1002633145  \n",
      "nacionalmente sino también internacionalmente, lo que proporciona un amplio sector \n",
      "laboral; en ella pretendemos repotenciar la economía de nuestra región  y por ello es que \n",
      "consideramos de suma relevancia esta asignatura como medio de innovación y creatividad \n",
      "en el proceso producti vo, ya que se pretende que durante el desarrollo del mismo  el ciclo se a \n",
      "sostenible y amigable con el me dio ambiente  \n",
      "\"\n"
     ]
    }
   ],
   "source": [
    "text=f\"\"\"Por favor quiero que califiques de 0.0 (mínimo) a 5.0 (máximo), el siguiente ensayo sobre la elección de modelo de emprendimiento, y además justifiques tu calificación tomando en cuenta los siguientes porcentajes y rubricas:\\n\\nRubrica 1 - Estructura: máximo porcentaje es 60%, el cual se debe valorar de la siguiente manera:\\n•Logrado: Se evidencia claramente una introducción de contextualización del foco temático elegido; realiza un desarrollo claro y cierra con una conclusión contundente y coherente con el objetivo planteado en la actividad. Apoya sus argumentos con el uso adecuado de citas bibliográficas y conectores.\\n•En proceso: En la introducción se contextualiza de manera incipiente el foco temático elegido; no es muy claro el desarrollo. Su conclusión es poco contundente y coherente con el objetivo planteado en la actividad. Hace poco uso de citas bibliográficas y conectores para apoyar sus argumentos.\\n•En inicio: No se realiza una introducción que contextualice el foco temático elegido; no realiza un desarrollo claro. No cierra con una conclusión contundente y coherente con el objetivo planteado en la actividad. No usa citas bibliográficas y conectores para apoyar sus argumentos.\\n\\nRubrica 2 - Gramática: máximo porcentaje es 20%, el cual se debe valorar de la siguiente manera:\\n•Logrado: Utiliza correctamente las reglas ortográficas. Utiliza correctamente los signos de puntuación.\\n•En proceso: Presenta algunos errores u omisiones al utilizar las reglas ortográficas. Presenta algunos errores u omisiones al utilizar los signos de puntuación.\\n•En inicio: No utiliza las reglas ortográficas, presenta errores u omisiones incluso en palabras comunes. No utiliza los signos de puntuación o lo hace de manera equivocada en todo el texto.\\n\\nRubrica 3 - Entrega: máximo porcentaje es 20%, el cual se debe valorar de la siguiente manera:\\n•Logrado: Hace envío del ensayo a través de la plataforma con suficiente tiempo para ser retroalimentado por la docente.\\n•En proceso: Hace envío del ensayo a través de la plataforma en la fecha límite, lo que impide la retroalimentación por la docente.\\n•En inicio: No hace envío del ensayo a través de la plataforma. Lo envía fuera de la fecha establecida.\\n \\nNota: la fecha limite de este ensayo era {fecha1} y la fecha de entrega fue {fecha2}\"\"\"\n",
    "\n",
    "print(text)\n",
    "print('\\nENSAYO:\\n\\n')\n",
    "print('\"')\n",
    "upload_and_extract_pdf()\n",
    "print('\"')"
   ]
  },
  {
   "cell_type": "code",
   "execution_count": null,
   "id": "90e65083",
   "metadata": {},
   "outputs": [],
   "source": [
    "https://chatgpt.com/share/9ab89d95-6e66-49fb-920a-75110de9f110"
   ]
  },
  {
   "cell_type": "code",
   "execution_count": null,
   "id": "e5ed1d2a",
   "metadata": {},
   "outputs": [],
   "source": []
  }
 ],
 "metadata": {
  "kernelspec": {
   "display_name": "Python 3",
   "language": "python",
   "name": "python3"
  },
  "language_info": {
   "codemirror_mode": {
    "name": "ipython",
    "version": 3
   },
   "file_extension": ".py",
   "mimetype": "text/x-python",
   "name": "python",
   "nbconvert_exporter": "python",
   "pygments_lexer": "ipython3",
   "version": "3.8.8"
  }
 },
 "nbformat": 4,
 "nbformat_minor": 5
}
